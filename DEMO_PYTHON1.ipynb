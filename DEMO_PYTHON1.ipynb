{
  "nbformat": 4,
  "nbformat_minor": 0,
  "metadata": {
    "colab": {
      "provenance": [],
      "authorship_tag": "ABX9TyPsL+mT1QaEGwOxGmXLy/cT",
      "include_colab_link": true
    },
    "kernelspec": {
      "name": "python3",
      "display_name": "Python 3"
    },
    "language_info": {
      "name": "python"
    }
  },
  "cells": [
    {
      "cell_type": "markdown",
      "metadata": {
        "id": "view-in-github",
        "colab_type": "text"
      },
      "source": [
        "<a href=\"https://colab.research.google.com/github/FunmiOkpodudu/test_class/blob/main/DEMO_PYTHON1.ipynb\" target=\"_parent\"><img src=\"https://colab.research.google.com/assets/colab-badge.svg\" alt=\"Open In Colab\"/></a>"
      ]
    },
    {
      "cell_type": "markdown",
      "source": [
        "**Write a code to add 2 numbers and display the result**"
      ],
      "metadata": {
        "id": "XLL28Ri1uvay"
      }
    },
    {
      "cell_type": "code",
      "execution_count": 1,
      "metadata": {
        "colab": {
          "base_uri": "https://localhost:8080/"
        },
        "id": "FROtzA6JqB8E",
        "outputId": "4b0075c5-3a41-4eb9-d9b2-6f21b1127358"
      },
      "outputs": [
        {
          "output_type": "stream",
          "name": "stdout",
          "text": [
            "-28\n"
          ]
        }
      ],
      "source": [
        "# INPUT\n",
        "number1 = 7\n",
        "number2 = -4\n",
        "\n",
        "# PROCESSING\n",
        "result = number1*number2\n",
        "\n",
        "# OUTPUT\n",
        "\n",
        "print(result)\n"
      ]
    },
    {
      "cell_type": "code",
      "source": [
        "# INPUT\n",
        "number1 = 7\n",
        "number2 = -4\n",
        "\n",
        "# PROCESSING\n",
        "result = number1+number2\n",
        "\n",
        "# OUTPUT\n",
        "\n",
        "print(result)\n"
      ],
      "metadata": {
        "colab": {
          "base_uri": "https://localhost:8080/"
        },
        "id": "I5hIwTzOwVDS",
        "outputId": "36b84ddd-df86-4da8-a33d-86210f12d3dc"
      },
      "execution_count": 6,
      "outputs": [
        {
          "output_type": "stream",
          "name": "stdout",
          "text": [
            "3\n"
          ]
        }
      ]
    },
    {
      "cell_type": "code",
      "source": [
        "# INPUT\n",
        "number1 = 7\n",
        "number2 = -4\n",
        "\n",
        "# PROCESSING\n",
        "result = number1-number2\n",
        "\n",
        "# OUTPUT\n",
        "\n",
        "print(result)\n"
      ],
      "metadata": {
        "colab": {
          "base_uri": "https://localhost:8080/"
        },
        "id": "-209fKRdwa39",
        "outputId": "0065ac04-8633-4efd-868d-7e6991b0f058"
      },
      "execution_count": 7,
      "outputs": [
        {
          "output_type": "stream",
          "name": "stdout",
          "text": [
            "11\n"
          ]
        }
      ]
    },
    {
      "cell_type": "code",
      "source": [
        "# INPUT\n",
        "number1 = 7\n",
        "number2 = 4\n",
        "\n",
        "# PROCESSING\n",
        "result = number1/number2\n",
        "\n",
        "# OUTPUT\n",
        "\n",
        "print(result)\n"
      ],
      "metadata": {
        "colab": {
          "base_uri": "https://localhost:8080/"
        },
        "id": "uqlfBY_twggc",
        "outputId": "d315812a-76fa-4f72-baa8-a309bfeb87c8"
      },
      "execution_count": 9,
      "outputs": [
        {
          "output_type": "stream",
          "name": "stdout",
          "text": [
            "1.75\n"
          ]
        }
      ]
    },
    {
      "cell_type": "code",
      "source": [
        "# INPUT\n",
        "number1 = 7\n",
        "number2 = 4\n",
        "\n",
        "# PROCESSING\n",
        "result = number1//number2\n",
        "\n",
        "# OUTPUT\n",
        "\n",
        "print(result)\n"
      ],
      "metadata": {
        "colab": {
          "base_uri": "https://localhost:8080/"
        },
        "id": "5x8ijBsywunX",
        "outputId": "5bbfe710-ebe9-4797-9927-532ba2948d72"
      },
      "execution_count": 10,
      "outputs": [
        {
          "output_type": "stream",
          "name": "stdout",
          "text": [
            "1\n"
          ]
        }
      ]
    },
    {
      "cell_type": "code",
      "source": [
        "# INPUT\n",
        "number1 = 7\n",
        "number2 = 4\n",
        "\n",
        "# PROCESSING\n",
        "result = number1%number2\n",
        "\n",
        "# OUTPUT\n",
        "\n",
        "print(result)\n"
      ],
      "metadata": {
        "colab": {
          "base_uri": "https://localhost:8080/"
        },
        "id": "Lm3GYdGQw0Vu",
        "outputId": "be278147-033a-46cc-f01a-218fd2a86146"
      },
      "execution_count": 11,
      "outputs": [
        {
          "output_type": "stream",
          "name": "stdout",
          "text": [
            "3\n"
          ]
        }
      ]
    },
    {
      "cell_type": "markdown",
      "source": [
        "**Write a python code to find the area of a circle of any given radius**"
      ],
      "metadata": {
        "id": "z00ogKeoszkl"
      }
    },
    {
      "cell_type": "code",
      "source": [
        "# INPUT\n",
        "\n",
        "radius = 21\n",
        "pie = 3.142\n",
        "\n",
        "# PROCESSING\n",
        "\n",
        "area = pie * (radius**2)\n",
        "\n",
        "# OUTPUT\n",
        "\n",
        "print(area)\n"
      ],
      "metadata": {
        "colab": {
          "base_uri": "https://localhost:8080/"
        },
        "id": "pZj4e_VrsqOw",
        "outputId": "ec03763e-1317-4c96-d134-989fb5d7c01e"
      },
      "execution_count": 5,
      "outputs": [
        {
          "output_type": "stream",
          "name": "stdout",
          "text": [
            "1385.622\n"
          ]
        }
      ]
    },
    {
      "cell_type": "markdown",
      "source": [],
      "metadata": {
        "id": "s3UOEgbssxiJ"
      }
    }
  ]
}